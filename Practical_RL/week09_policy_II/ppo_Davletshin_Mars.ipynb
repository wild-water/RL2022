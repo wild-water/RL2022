{
 "cells": [
  {
   "cell_type": "code",
   "execution_count": 1,
   "metadata": {
    "colab": {
     "base_uri": "https://localhost:8080/"
    },
    "id": "j9dfWABRNCVm",
    "outputId": "ee8f0e74-ab77-4b9e-ff10-05d4e7a0930b"
   },
   "outputs": [],
   "source": [
    "import sys, os\n",
    "if 'google.colab' in sys.modules and not os.path.exists('.setup_complete'):\n",
    "    !wget -q https://raw.githubusercontent.com/yandexdataschool/Practical_RL/master/setup_colab.sh -O- | bash\n",
    "\n",
    "    !wget -q https://raw.githubusercontent.com/yandexdataschool/Practical_RL/master/week09_policy_II/mujoco_wrappers.py\n",
    "    \n",
    "    !touch .setup_complete\n",
    "\n",
    "# This code creates a virtual display to draw game images on.\n",
    "# It will have no effect if your machine has a monitor.\n",
    "if type(os.environ.get(\"DISPLAY\")) is not str or len(os.environ.get(\"DISPLAY\")) == 0:\n",
    "    !bash ../xvfb start\n",
    "    os.environ['DISPLAY'] = ':1'"
   ]
  },
  {
   "cell_type": "markdown",
   "metadata": {
    "id": "WI0kqjVINCVt"
   },
   "source": [
    "# Implementing Proximal Policy Optimization \n",
    "\n",
    "\n",
    "In this notebook you will be implementing Proximal Policy Optimization algorithm, \n",
    "scaled up version of which was used to train [OpenAI Five](https://openai.com/blog/openai-five/) \n",
    "to [win](https://openai.com/blog/how-to-train-your-openai-five/) against the\n",
    "world champions in Dota 2.\n",
    "You will be solving a continuous control environment on which it may be easier and faster \n",
    "to train an agent, however note that PPO here may not be the best algorithm as, for example,\n",
    "Deep Deterministic Policy Gradient and Soft Actor Critic may be more suited \n",
    "for continuous control environments. To run the environment you will need to install \n",
    "[pybullet-gym](https://github.com/benelot/pybullet-gym) which unlike MuJoCo \n",
    "does not require you to have a license.\n",
    "\n",
    "To install the library:"
   ]
  },
  {
   "cell_type": "code",
   "execution_count": 2,
   "metadata": {
    "colab": {
     "base_uri": "https://localhost:8080/"
    },
    "id": "31MBortONCVv",
    "outputId": "13ea5dac-6194-497a-8ca3-d7bde217798c"
   },
   "outputs": [
    {
     "name": "stdout",
     "output_type": "stream",
     "text": [
      "fatal: destination path 'lib/pybullet-gym' already exists and is not an empty directory.\n",
      "WARNING: pip is being invoked by an old script wrapper. This will fail in a future version of pip.\n",
      "Please see https://github.com/pypa/pip/issues/5599 for advice on fixing the underlying issue.\n",
      "To avoid this problem you can invoke Python with '-m pip' instead of running pip directly.\n",
      "Obtaining file:///home/mars/projects/YSDA/4/RL/Practical_RL/week09_policy_II/lib/pybullet-gym\n",
      "  Preparing metadata (setup.py) ... \u001b[?25ldone\n",
      "\u001b[?25hRequirement already satisfied: pybullet>=1.7.8 in /home/mars/anaconda3/lib/python3.7/site-packages (from pybulletgym==0.1) (3.2.2)\n",
      "Installing collected packages: pybulletgym\n",
      "  Attempting uninstall: pybulletgym\n",
      "    Found existing installation: pybulletgym 0.1\n",
      "    Uninstalling pybulletgym-0.1:\n",
      "      Successfully uninstalled pybulletgym-0.1\n",
      "  Running setup.py develop for pybulletgym\n",
      "Successfully installed pybulletgym-0.1\n",
      "\u001b[33mWARNING: You are using pip version 21.3.1; however, version 22.0.4 is available.\n",
      "You should consider upgrading via the '/home/mars/anaconda3/bin/python -m pip install --upgrade pip' command.\u001b[0m\n"
     ]
    }
   ],
   "source": [
    "!git clone https://github.com/benelot/pybullet-gym lib/pybullet-gym\n",
    "!pip install -e lib/pybullet-gym"
   ]
  },
  {
   "cell_type": "code",
   "execution_count": 2,
   "metadata": {
    "id": "MZeKC7aO4RIC"
   },
   "outputs": [],
   "source": [
    "from tqdm import tqdm\n",
    "from sklearn.metrics import r2_score"
   ]
  },
  {
   "cell_type": "markdown",
   "metadata": {
    "id": "Iod_fZUFNCVw"
   },
   "source": [
    "The overall structure of the code is similar to the one in the A2C optional homework, but don't worry if you haven't done it, it should be relatively easy to figure it out. \n",
    "First, we will create an instance of the environment. \n",
    "We will normalize the observations and rewards, but before that you will need a wrapper that will \n",
    "write summaries, mainly, the total reward during an episode. You can either use one for `TensorFlow` \n",
    "implemented in `atari_wrappers.py` file from the optional A2C homework, or implement your own. "
   ]
  },
  {
   "cell_type": "code",
   "execution_count": 3,
   "metadata": {
    "colab": {
     "base_uri": "https://localhost:8080/"
    },
    "id": "Y2N76WIRNCVx",
    "outputId": "b23c69ce-eedb-4043-9f8c-1d89eec416a8"
   },
   "outputs": [
    {
     "name": "stdout",
     "output_type": "stream",
     "text": [
      "WalkerBase::__init__\n",
      "observation space:  Box([-inf -inf -inf -inf -inf -inf -inf -inf -inf -inf -inf -inf -inf -inf\n",
      " -inf -inf -inf], [inf inf inf inf inf inf inf inf inf inf inf inf inf inf inf inf inf], (17,), float32) \n",
      "observations: [-0.06886479 -0.0392984  -0.07134221 -0.03681757  0.07730743  0.01537143\n",
      " -0.01464386  0.08045819  0.          0.          0.          0.\n",
      "  0.          0.          0.          0.          0.        ]\n",
      "action space:  Box([-1. -1. -1. -1. -1. -1.], [1. 1. 1. 1. 1. 1.], (6,), float32) \n",
      "action_sample:  [ 0.53032863  0.07496662 -0.55764437 -0.9919691  -0.12419752 -0.3679923 ]\n"
     ]
    },
    {
     "name": "stderr",
     "output_type": "stream",
     "text": [
      "/home/mars/anaconda3/lib/python3.7/site-packages/gym/logger.py:34: UserWarning: \u001b[33mWARN: Box bound precision lowered by casting to float32\u001b[0m\n",
      "  warnings.warn(colorize(\"%s: %s\" % (\"WARN\", msg % args), \"yellow\"))\n"
     ]
    }
   ],
   "source": [
    "import gym \n",
    "import pybulletgym\n",
    "\n",
    "env = gym.make(\"HalfCheetahMuJoCoEnv-v0\")\n",
    "print(\"observation space: \", env.observation_space,\n",
    "      \"\\nobservations:\", env.reset())\n",
    "print(\"action space: \", env.action_space, \n",
    "      \"\\naction_sample: \", env.action_space.sample())"
   ]
  },
  {
   "cell_type": "code",
   "execution_count": 4,
   "metadata": {
    "id": "_au8nSY479qw"
   },
   "outputs": [],
   "source": [
    "import numpy as np\n",
    "\n",
    "class Summaries(gym.Wrapper):\n",
    "    \"\"\" Wrapper to write summaries. \"\"\"\n",
    "    def __init__(self, env):\n",
    "        super().__init__(env)\n",
    "        self.episode_counter = 0\n",
    "        self.current_step_var = 0\n",
    "\n",
    "        self.episode_rewards = []\n",
    "        self.episode_lens = []\n",
    "\n",
    "        self.current_reward = 0\n",
    "        self.current_len = 0\n",
    "\n",
    "    def step(self, action):\n",
    "        obs, rew, done, info = self.env.step(action)\n",
    "\n",
    "        self.current_reward += rew\n",
    "        self.current_len += 1\n",
    "        self.current_step_var += 1\n",
    "\n",
    "        if done:\n",
    "            self.episode_rewards.append((self.current_step_var, self.current_reward))\n",
    "            self.episode_lens.append((self.current_step_var, self.current_len))\n",
    "\n",
    "        return obs, rew, done, info\n",
    "\n",
    "    def reset(self, **kwargs):\n",
    "        self.episode_counter += 1\n",
    "\n",
    "        self.current_reward = 0\n",
    "        self.current_len = 0\n",
    "\n",
    "        return self.env.reset(**kwargs)"
   ]
  },
  {
   "cell_type": "markdown",
   "metadata": {
    "id": "JVom_S9yNCVz"
   },
   "source": [
    "The normalization wrapper will subtract running mean from observations and rewards and divide \n",
    "the resulting quantities by the  running variances."
   ]
  },
  {
   "cell_type": "code",
   "execution_count": 5,
   "metadata": {
    "colab": {
     "base_uri": "https://localhost:8080/"
    },
    "id": "lxevKC-FNCVz",
    "outputId": "11bcf7dd-b04c-47c8-c8e0-ca8724aee842"
   },
   "outputs": [
    {
     "name": "stdout",
     "output_type": "stream",
     "text": [
      "WalkerBase::__init__\n"
     ]
    }
   ],
   "source": [
    "from mujoco_wrappers import Normalize\n",
    "\n",
    "env = Normalize(Summaries(gym.make(\"HalfCheetahMuJoCoEnv-v0\")));\n",
    "env.unwrapped.seed(0);"
   ]
  },
  {
   "cell_type": "markdown",
   "metadata": {
    "id": "_9lf2Z8bNCV0"
   },
   "source": [
    "Next, you will need to define a model for training. We suggest that you use two separate networks: one for policy\n",
    "and another for value function. Each network should be a 3-layer MLP with 64 hidden units, $\\mathrm{tanh}$ \n",
    "activation function.\n",
    "\n",
    "Our policy distribution is going to be multivariate normal with diagonal covariance. \n",
    "The network from above will predict the mean, and the covariance should be represented by a single \n",
    "(learned) vector of size 6 (corresponding to the dimensionality of the action space from above). Or you can also predict the variance using your model. You should take the exponent of that values to always have a non-negative quantity. \n",
    "\n",
    "Overall the model should return three things: predicted mean of the distribution, variance vector, \n",
    "value function. "
   ]
  },
  {
   "cell_type": "code",
   "execution_count": 6,
   "metadata": {},
   "outputs": [],
   "source": [
    "state_dim = env.observation_space.shape\n",
    "device = 'cpu'"
   ]
  },
  {
   "cell_type": "code",
   "execution_count": 7,
   "metadata": {
    "id": "OwwLcUApNCV0"
   },
   "outputs": [],
   "source": [
    "# import tensorflow as tf\n",
    "import torch\n",
    "\n",
    "from torch import nn\n",
    "from torch.nn import functional as F\n",
    "import torch\n",
    "\n",
    "\n",
    "class PolicyModel(nn. Module):\n",
    "    def __init__(self):\n",
    "        super(PolicyModel, self).__init__()\n",
    "        self.h = 64\n",
    "    \n",
    "        self.policy_model = nn.Sequential(nn.Linear(state_dim[0], self.h), nn.Tanh(),\n",
    "                                        nn.Linear(self.h, 6 + 6)).to(device)\n",
    "\n",
    "        self.value_model = nn.Sequential(nn.Linear(state_dim[0], self.h), nn.Tanh(),\n",
    "                                        nn.Linear(self.h, 1)).to(device)\n",
    "        \n",
    "    def get_policy(self, x):\n",
    "        out = self.policy_model(x.float().to(device))\n",
    "        means = out[:,:6]\n",
    "        var = out[:,6:]\n",
    "        return means, var\n",
    "\n",
    "    def get_value(self, x):\n",
    "        out = self.value_model(x.float().to(device))\n",
    "        return out\n",
    "\n",
    "    def forward(self, x):\n",
    "        policy = self.get_policy(x)\n",
    "        value = self.get_value(x)\n",
    "\n",
    "        return policy, value"
   ]
  },
  {
   "cell_type": "markdown",
   "metadata": {
    "id": "YI6d9Xq_NCV1"
   },
   "source": [
    "This model will be wrapped by a `Policy`. The policy can work in two modes, but in either case \n",
    "it is going to return dictionary with string-type keys. The first mode is when the policy is \n",
    "used to sample actions for a trajectory which will later be used for training. In this case \n",
    "the flag `training` passed to `act` method is `False` and the method should return \n",
    "a `dict` with the following keys: \n",
    "\n",
    "* `\"actions\"`: actions to pass to the environment\n",
    "* `\"log_probs\"`: log-probabilities of sampled actions\n",
    "* `\"values\"`: value function $V^\\pi(s)$ predictions.\n",
    "\n",
    "We don't need to use the values under these keys for training, so all of them should be of type `np.ndarray`.\n",
    "\n",
    "When `training` is `True`, the model is training on a given batch of observations. In this\n",
    "case it should return a `dict` with the following keys\n",
    "\n",
    "* `\"distribution\"`: an instance of multivariate normal distribution (`torch.distributions.MultivariateNormal` or `tf.distributions.MultivariateNormalDiag`)\n",
    "* `\"values\"`: value function $V^\\pi(s)$ prediction.\n",
    "\n",
    "The distinction about the modes comes into play depending on where the policy is used: if it is called from `EnvRunner`, \n",
    "the `training` flag is `False`, if it is called from `PPO`, the `training` flag is `True`. These classed \n",
    "will be described below. "
   ]
  },
  {
   "cell_type": "code",
   "execution_count": 8,
   "metadata": {
    "id": "C54tGZahXbSa"
   },
   "outputs": [],
   "source": [
    "from torch.distributions.normal import Normal\n",
    "from torch.distributions.multivariate_normal import MultivariateNormal\n",
    "\n",
    "class Policy:\n",
    "    def __init__(self, model):\n",
    "        self.model = model\n",
    "        self.model.to(device)\n",
    "    \n",
    "    def act(self, inputs, training=False):\n",
    "        inputs = torch.tensor(inputs)\n",
    "        if inputs.ndim < 2:\n",
    "            inputs = inputs.unsqueeze(0)\n",
    "        inputs = inputs.to(device)\n",
    "        \n",
    "        batch_size = inputs.shape[0]\n",
    "\n",
    "        #< insert your code here >\n",
    "        means, var = self.model.get_policy(inputs)\n",
    "        #var = nn.Tanh()(var)\n",
    "        var = torch.clamp(var, -10, 1)\n",
    "        covar_matrix = torch.exp(var)\n",
    "        normal_distr = Normal(means, covar_matrix)\n",
    "\n",
    "        actions = normal_distr.sample()\n",
    "        log_probs = normal_distr.log_prob(actions)\n",
    "\n",
    "        values = self.model.get_value(inputs)\n",
    "\n",
    "        if not training:\n",
    "            return {'actions': actions.cpu().numpy().tolist()[0], \n",
    "                    'log_probs': log_probs[0].detach().cpu().numpy(),\n",
    "                    'values': values[0].detach().cpu().numpy()}\n",
    "        else:\n",
    "            return {'distribution': normal_distr, 'values': values}"
   ]
  },
  {
   "cell_type": "markdown",
   "metadata": {
    "id": "-kML-jSsNCV2"
   },
   "source": [
    "We will use `EnvRunner` to perform interactions with an environment with a policy for a fixed number of timesteps. Calling `.get_next()` on a runner will return a trajectory &mdash; dictionary \n",
    "containing keys\n",
    "\n",
    "* `\"observations\"`\n",
    "* `\"rewards\"` \n",
    "* `\"resets\"`\n",
    "* `\"actions\"`\n",
    "* all other keys that you defined in `Policy`,\n",
    "\n",
    "under each of these keys there is a `np.ndarray` of specified length $T$ &mdash; the size of partial trajectory. \n",
    "\n",
    "Additionally, before returning a trajectory this runner can apply a list of transformations. \n",
    "Each transformation is simply a callable that should modify passed trajectory in-place."
   ]
  },
  {
   "cell_type": "code",
   "execution_count": 9,
   "metadata": {
    "id": "5LeiuohcNCV3"
   },
   "outputs": [],
   "source": [
    "class AsArray:\n",
    "    \"\"\" \n",
    "    Converts lists of interactions to ndarray.\n",
    "    \"\"\"\n",
    "    def __call__(self, trajectory):\n",
    "        # Modify trajectory inplace. \n",
    "        for k, v in filter(lambda kv: kv[0] != \"state\", trajectory.items()):\n",
    "            trajectory[k] = np.asarray(v)"
   ]
  },
  {
   "cell_type": "code",
   "execution_count": 10,
   "metadata": {},
   "outputs": [],
   "source": [
    "\"\"\" RL env runner \"\"\"\n",
    "from collections import defaultdict\n",
    "\n",
    "import numpy as np\n",
    "\n",
    "\n",
    "class EnvRunner:\n",
    "    \"\"\" Reinforcement learning runner in an environment with given policy \"\"\"\n",
    "\n",
    "    def __init__(self, env, policy, nsteps, transforms=None, step_var=None):\n",
    "        self.env = env\n",
    "        self.policy = policy\n",
    "        self.nsteps = nsteps\n",
    "        self.transforms = transforms or []\n",
    "        self.step_var = step_var if step_var is not None else 0\n",
    "        self.state = {\"latest_observation\": self.env.reset()}\n",
    "\n",
    "    @property\n",
    "    def nenvs(self):\n",
    "        \"\"\" Returns number of batched envs or `None` if env is not batched \"\"\"\n",
    "        return getattr(self.env.unwrapped, \"nenvs\", None)\n",
    "\n",
    "    def reset(self):\n",
    "        \"\"\" Resets env and runner states. \"\"\"\n",
    "        self.state[\"latest_observation\"] = self.env.reset()\n",
    "        self.policy.reset()\n",
    "\n",
    "    def get_next(self):\n",
    "        \"\"\" Runs the agent in the environment.  \"\"\"\n",
    "        trajectory = defaultdict(list, {\"actions\": []})\n",
    "        observations = []\n",
    "        rewards = []\n",
    "        resets = []\n",
    "        self.state[\"env_steps\"] = self.nsteps\n",
    "\n",
    "        for i in range(self.nsteps):\n",
    "            observations.append(self.state[\"latest_observation\"])\n",
    "            act = self.policy.act(self.state[\"latest_observation\"])\n",
    "            if \"actions\" not in act:\n",
    "                raise ValueError(\"result of policy.act must contain 'actions' \"\n",
    "                                 f\"but has keys {list(act.keys())}\")\n",
    "            for key, val in act.items():\n",
    "                trajectory[key].append(val)\n",
    "\n",
    "            obs, rew, done, _ = self.env.step(trajectory[\"actions\"][-1])\n",
    "            self.state[\"latest_observation\"] = obs\n",
    "            rewards.append(rew)\n",
    "            resets.append(done)\n",
    "            self.step_var += self.nenvs or 1\n",
    "\n",
    "            # Only reset if the env is not batched. Batched envs should\n",
    "            # auto-reset.\n",
    "            if not self.nenvs and np.all(done):\n",
    "                self.state[\"env_steps\"] = i + 1\n",
    "                self.state[\"latest_observation\"] = self.env.reset()\n",
    "\n",
    "        trajectory.update(\n",
    "            observations=observations,\n",
    "            rewards=rewards,\n",
    "            resets=resets)\n",
    "        trajectory[\"state\"] = self.state\n",
    "\n",
    "        for transform in self.transforms:\n",
    "            transform(trajectory)\n",
    "        return trajectory"
   ]
  },
  {
   "cell_type": "code",
   "execution_count": 11,
   "metadata": {
    "colab": {
     "base_uri": "https://localhost:8080/"
    },
    "id": "wNzPNxKLNCV4",
    "outputId": "e15b29e7-1864-45db-e67a-3f1994b77a81"
   },
   "outputs": [
    {
     "data": {
      "text/plain": [
       "{'actions': (3, 6),\n",
       " 'values': (3,),\n",
       " 'observations': (3, 17),\n",
       " 'rewards': (3,),\n",
       " 'resets': (3,)}"
      ]
     },
     "execution_count": 11,
     "metadata": {},
     "output_type": "execute_result"
    }
   ],
   "source": [
    "import numpy as np\n",
    "\n",
    "class DummyPolicy:\n",
    "    def act(self, inputs, training=False):\n",
    "        assert not training\n",
    "        return {\"actions\": np.random.randn(6), \"values\": np.nan}\n",
    "\n",
    "runner = EnvRunner(env, DummyPolicy(), 3,\n",
    "                   transforms=[AsArray()])\n",
    "trajectory = runner.get_next()\n",
    "\n",
    "{k: v.shape for k, v in trajectory.items() if k != \"state\"}"
   ]
  },
  {
   "cell_type": "markdown",
   "metadata": {
    "id": "NyhcvAMZNCV5"
   },
   "source": [
    "You will need to implement the following two transformations. \n",
    "\n",
    "The first is `GAE` that implements [Generalized Advantage Estimator](https://arxiv.org/abs/1506.02438).\n",
    "In it you should add two keys to the trajectory: `\"advantages\"` and `\"value_targets\"`. In GAE the advantages\n",
    "$A_t^{\\mathrm{GAE}(\\gamma,\\lambda)}$ are essentially defined as the exponential \n",
    "moving average with parameter $\\lambda$ of the regular advantages \n",
    "$\\hat{A}^{(T)}(s_t) = \\sum_{l=0}^{T-1-t} \\gamma^l r_{t+l} + \\gamma^{T} V^\\pi(s_{T}) - V^\\pi(s_t)$. \n",
    "The exact formula for the computation is the following\n",
    "\n",
    "$$\n",
    "A_{t}^{\\mathrm{GAE}(\\gamma,\\lambda)} = \\sum_{l=0}^{T-1-t} (\\gamma\\lambda)^l\\delta_{t + l}^V, \\, t \\in [0, T)\n",
    "$$\n",
    "where $\\delta_{t+l}^V = r_{t+l} + \\gamma V^\\pi(s_{t+l+1}) - V^\\pi(s_{t+l})$. You can look at the \n",
    "derivation (formulas 11-16) in the paper. Don't forget to reset the summation on terminal\n",
    "states as determined by the flags `trajectory[\"resets\"]`. You can use `trajectory[\"values\"]`\n",
    "to get values of all observations except the most recent which is stored under \n",
    " `trajectory[\"state\"][\"latest_observation\"]`. For this observation you will need to call the policy \n",
    " to get the value prediction.\n",
    "\n",
    "Once you computed the advantages, you can get the targets for training the value function by adding \n",
    "back values:\n",
    "$$\n",
    "\\hat{V}(s_{t+l}) = A_{t+l}^{\\mathrm{GAE}(\\gamma,\\lambda)} + V(s_{t + l}),\n",
    "$$\n",
    "where $\\hat{V}$ is a tensor of value targets that are used to train the value function. "
   ]
  },
  {
   "cell_type": "code",
   "execution_count": 12,
   "metadata": {
    "id": "AC5rUuiKNCV6"
   },
   "outputs": [],
   "source": [
    "import os\n",
    "from collections import deque\n",
    "\n",
    "class GAE:\n",
    "    \"\"\" Generalized Advantage Estimator. \"\"\"\n",
    "    def __init__(self, policy, gamma=0.99, lambda_=0.95):\n",
    "        self.policy = policy\n",
    "        self.gamma = gamma\n",
    "        self.lambda_ = lambda_\n",
    "\n",
    "    def __call__(self, trajectory):\n",
    "        gamma = self.gamma\n",
    "        lambda_ = self.lambda_\n",
    "        \n",
    "        advantages = deque()\n",
    "        value_targets = deque()\n",
    "\n",
    "        rewards = trajectory[\"rewards\"]\n",
    "        values = list(trajectory[\"values\"])\n",
    "        resets = 1 - trajectory[\"resets\"] \n",
    "        acted_policy = self.policy.act(trajectory[\"state\"][\"latest_observation\"], training = False)\n",
    "        values.append(acted_policy[\"values\"])\n",
    "\n",
    "        prev_gae = 0\n",
    "        for step in reversed(range(len(rewards))):\n",
    "            delta = rewards[step] + self.gamma * values[step + 1] * resets[step] - values[step] \n",
    "            advantage = delta + self.gamma * self.lambda_ * prev_gae * resets[step]\n",
    "            prev_gae =  delta + self.gamma * self.lambda_ * prev_gae * resets[step]\n",
    "            advantages.appendleft(advantage)\n",
    "            value_targets.appendleft(advantage + values[step])\n",
    "\n",
    "        trajectory['advantages'] = np.array(advantages)[...,0]\n",
    "        trajectory[\"value_targets\"] = np.array(value_targets)"
   ]
  },
  {
   "cell_type": "code",
   "execution_count": 13,
   "metadata": {},
   "outputs": [
    {
     "name": "stdout",
     "output_type": "stream",
     "text": [
      "It's all good!\n"
     ]
    }
   ],
   "source": [
    "def test_gae():\n",
    "    '''\n",
    "    !curl -O https://raw.githubusercontent.com/yandexdataschool/Practical_RL/master/week09_policy_II/test_ppo/actions.npy\n",
    "    !curl -O https://raw.githubusercontent.com/yandexdataschool/Practical_RL/master/week09_policy_II/test_ppo/log_probs.npy\n",
    "    !curl -O https://raw.githubusercontent.com/yandexdataschool/Practical_RL/master/week09_policy_II/test_ppo/values.npy\n",
    "    !curl -O https://raw.githubusercontent.com/yandexdataschool/Practical_RL/master/week09_policy_II/test_ppo/observations.npy\n",
    "    !curl -O https://raw.githubusercontent.com/yandexdataschool/Practical_RL/master/week09_policy_II/test_ppo/rewards.npy\n",
    "    !curl -O https://raw.githubusercontent.com/yandexdataschool/Practical_RL/master/week09_policy_II/test_ppo/resets.npy\n",
    "    !curl -O https://raw.githubusercontent.com/yandexdataschool/Practical_RL/master/week09_policy_II/test_ppo/state.npy\n",
    "    !curl -O https://raw.githubusercontent.com/yandexdataschool/Practical_RL/master/week09_policy_II/test_ppo/advantages.npy\n",
    "    !curl -O https://raw.githubusercontent.com/yandexdataschool/Practical_RL/master/week09_policy_II/test_ppo/value_targets.npy\n",
    "    !curl -O https://raw.githubusercontent.com/yandexdataschool/Practical_RL/master/week09_policy_II/test_ppo/policy\n",
    "    '''\n",
    "    trajectory = {}\n",
    "    for key in ['actions', 'log_probs', 'values', 'observations', 'rewards', 'resets']:\n",
    "        trajectory[key] = np.load(f'{key}.npy', allow_pickle=True)\n",
    "    trajectory['state'] = {\"latest_observation\": np.load('state.npy')}\n",
    "    \n",
    "    policy = torch.load(f'policy')\n",
    "    gae_to_test = GAE(policy, gamma=0.99, lambda_=0.95)\n",
    "    \n",
    "    gae_to_test(trajectory)\n",
    "    \n",
    "    for key in ['advantages', 'value_targets']:\n",
    "        assert np.allclose(np.load(f'{key}.npy'), trajectory[key], atol=2e-2)\n",
    "    \n",
    "    print(\"It's all good!\")\n",
    "test_gae()"
   ]
  },
  {
   "cell_type": "markdown",
   "metadata": {
    "id": "yce0A8x7NCV7"
   },
   "source": [
    "The main advantage of PPO over simpler policy based methods like A2C is that it is possible\n",
    "to train on the same trajectory for multiple gradient steps. The following class wraps \n",
    "an `EnvRunner`. It should call the runner to get a trajectory, then return minibatches \n",
    "from it for a number of epochs, shuffling the data before each epoch."
   ]
  },
  {
   "cell_type": "code",
   "execution_count": 14,
   "metadata": {
    "id": "J7tIjwbkNCV8"
   },
   "outputs": [],
   "source": [
    "class TrajectorySampler:\n",
    "    \"\"\" Samples minibatches from trajectory for a number of epochs. \"\"\"\n",
    "    def __init__(self, runner, num_epochs, num_minibatches, transforms=None):\n",
    "        self.runner = runner\n",
    "        self.num_epochs = num_epochs\n",
    "        self.num_minibatches = num_minibatches\n",
    "        self.transforms = transforms or []\n",
    "        self.minibatch_count = 0\n",
    "        self.epoch_count = 0\n",
    "        self.trajectory = None\n",
    "\n",
    "    def shuffle_trajectory(self):\n",
    "        \"\"\" Shuffles all elements in trajectory.\n",
    "\n",
    "        Should be called at the beginning of each epoch.\n",
    "        \"\"\"\n",
    "        trajectory_len = self.trajectory[\"observations\"].shape[0]\n",
    "\n",
    "        permutation = np.random.permutation(trajectory_len)\n",
    "        for key, value in self.trajectory.items():\n",
    "            if key != 'state':\n",
    "                self.trajectory[key] = value[permutation]\n",
    "\n",
    "    def get_next(self):\n",
    "        \"\"\" Returns next minibatch.  \"\"\"\n",
    "        if not self.trajectory:\n",
    "            self.trajectory = self.runner.get_next()\n",
    "\n",
    "        if self.minibatch_count == self.num_minibatches:\n",
    "            self.shuffle_trajectory()\n",
    "            self.minibatch_count = 0\n",
    "            self.epoch_count += 1\n",
    "\n",
    "        if self.epoch_count == self.num_epochs:\n",
    "            self.trajectory = self.runner.get_next()\n",
    "\n",
    "            self.shuffle_trajectory()\n",
    "            self.minibatch_count = 0\n",
    "            self.epoch_count = 0\n",
    "\n",
    "        trajectory_len = self.trajectory[\"observations\"].shape[0]\n",
    "\n",
    "        batch_size = trajectory_len//self.num_minibatches\n",
    "\n",
    "        minibatch = {}\n",
    "        for key, value in self.trajectory.items():\n",
    "            if key != 'state':\n",
    "                minibatch[key] = value[self.minibatch_count*batch_size: (self.minibatch_count + 1)*batch_size]\n",
    "\n",
    "        self.minibatch_count += 1\n",
    "\n",
    "        for transform in self.transforms:\n",
    "            transform(minibatch)\n",
    "\n",
    "        return minibatch"
   ]
  },
  {
   "cell_type": "markdown",
   "metadata": {
    "id": "U1UgHPb0NCV8"
   },
   "source": [
    "A common trick to use with GAE is to normalize advantages, please implement the normalization."
   ]
  },
  {
   "cell_type": "code",
   "execution_count": 15,
   "metadata": {
    "id": "GZrUlmFYNCV9"
   },
   "outputs": [],
   "source": [
    "class NormalizeAdvantages:\n",
    "    \"\"\" Normalizes advantages to have zero mean and variance 1. \"\"\"\n",
    "    def __call__(self, trajectory):\n",
    "        adv = trajectory[\"advantages\"]\n",
    "        adv = (adv - adv.mean()) / (adv.std() + 1e-8)\n",
    "        trajectory[\"advantages\"] = adv"
   ]
  },
  {
   "cell_type": "markdown",
   "metadata": {
    "id": "DXnare-INCV-"
   },
   "source": [
    "Finally, we can create our PPO runner. "
   ]
  },
  {
   "cell_type": "code",
   "execution_count": 16,
   "metadata": {
    "id": "tx0Yr0GtNCV_"
   },
   "outputs": [],
   "source": [
    "def make_ppo_runner(env, policy, num_runner_steps=2048,\n",
    "                    gamma=0.99, lambda_=0.95, \n",
    "                    num_epochs=10, num_minibatches=32):\n",
    "    \"\"\" Creates runner for PPO algorithm. \"\"\"\n",
    "    runner_transforms = [AsArray(),\n",
    "                       GAE(policy, gamma=gamma, lambda_=lambda_)]\n",
    "    runner = EnvRunner(env, policy, num_runner_steps, \n",
    "                     transforms=runner_transforms)\n",
    "\n",
    "    sampler_transforms = [NormalizeAdvantages()]\n",
    "    sampler = TrajectorySampler(runner, num_epochs=num_epochs, \n",
    "                              num_minibatches=num_minibatches,\n",
    "                              transforms=sampler_transforms)\n",
    "    return sampler"
   ]
  },
  {
   "cell_type": "markdown",
   "metadata": {
    "id": "MX1aZueWNCWA"
   },
   "source": [
    "In the next cell you will need to implement Proximal Policy Optimization algorithm itself. The algorithm\n",
    "modifies the typical policy gradient loss in the following way:\n",
    "\n",
    "$$\n",
    "J_{\\pi}(s, a) = \\frac{\\pi_\\theta(a|s)}{\\pi_\\theta^{\\text{old}}(a|s)} \\cdot A^{\\mathrm{GAE}(\\gamma,\\lambda)}(s, a)\n",
    "$$\n",
    "\n",
    "$$\n",
    "J_{\\pi}^{\\text{clipped}}(s, a) = \\mathrm{clip}\\left(\n",
    "\\frac{\\pi_\\theta(a|s)}{\\pi_{\\theta^{\\text{old}}}(a|s)},\n",
    "1 - \\text{cliprange}, 1 + \\text{cliprange}\\right)\\cdot A^{\\mathrm{GAE(\\gamma, \\lambda)}}(s)\\\\\n",
    "$$\n",
    "\n",
    "$$\n",
    "L_{\\text{policy}} = -\\frac{1}{T}\\sum_{l=0}^{T-1}\\min\\left(J_\\pi(s_{t + l}, a_{t + l}), J_{\\pi}^{\\text{clipped}}(s_{t + l}, a_{t + l})\\right).\n",
    "$$\n",
    "\n",
    "The value loss is also modified:\n",
    "\n",
    "$$\n",
    "L_{V}^{\\text{clipped}} = \\frac{1}{T}\\sum_{l=0}^{T-1} \\max(l^{simple}(s_{t + l}), l^{clipped}(s_{t + l}))\n",
    "$$\n",
    ", where $l^{simple}$ is your standard critic loss\n",
    "$$\n",
    "l^{simple}(s_{t + l}) = [V_\\theta(s_{t+l}) - G(s_{t + l})]^2\n",
    "$$\n",
    "\n",
    "and $l^{clipped}$ is a clipped version that limits large changes of the value function:\n",
    "$$\n",
    "l^{clipped}(s_{t + l}) = [\n",
    "V_{\\theta^{\\text{old}}}(s_{t+l}) +\n",
    "\\text{clip}\\left(\n",
    "V_\\theta(s_{t+l}) - V_{\\theta^\\text{old}}(s_{t+l}),\n",
    "-\\text{cliprange}, \\text{cliprange}\n",
    "\\right) - G(s_{t + l})] ^ 2\n",
    "$$"
   ]
  },
  {
   "cell_type": "code",
   "execution_count": 17,
   "metadata": {
    "id": "JYGV4EmxNCWB"
   },
   "outputs": [],
   "source": [
    "class PPO:\n",
    "    def __init__(self, policy, optimizer,\n",
    "               cliprange=0.2,\n",
    "               value_loss_coef=0.25,\n",
    "               max_grad_norm=0.5):\n",
    "        self.policy = policy\n",
    "        self.optimizer = optimizer\n",
    "        self.cliprange = cliprange\n",
    "        self.value_loss_coef = value_loss_coef\n",
    "        # Note that we don't need entropy regularization for this env.\n",
    "        self.max_grad_norm = max_grad_norm\n",
    "\n",
    "    def policy_loss(self, trajectory, act):\n",
    "        \"\"\" Computes and returns policy loss on a given trajectory. \"\"\"\n",
    "        actions = torch.tensor(trajectory[\"actions\"]).to(device) \n",
    "        old_logprobs = torch.tensor(trajectory[\"log_probs\"]).sum(1).to(device)#.flatten() \n",
    "        new_logprobs = act[\"distribution\"].log_prob(actions).sum(1)\n",
    "        \n",
    "        ratio = torch.exp(new_logprobs - old_logprobs)\n",
    "        self._policy_loss = torch.mean(torch.max(- ratio * torch.Tensor(trajectory[\"advantages\"]).to(device), \n",
    "                                                - torch.clamp(ratio, 1 - self.cliprange, 1 + self.cliprange) * torch.Tensor(trajectory[\"advantages\"]).to(device) ))\n",
    "        \n",
    "        return self._policy_loss\n",
    "\n",
    "    def value_loss(self, trajectory, act):\n",
    "        \"\"\" Computes and returns value loss on a given trajectory. \"\"\"\n",
    "        new_values = act[\"values\"].flatten() \n",
    "        returns = torch.tensor(trajectory[\"value_targets\"]).to(device)\n",
    "        values = torch.tensor(trajectory[\"values\"]).to(device).flatten()\n",
    "\n",
    "        v_loss_1  = (returns - new_values).pow(2)\n",
    "        clipped_values = values + torch.clamp(new_values - values,\n",
    "                                              -self.cliprange,\n",
    "                                              self.cliprange)\n",
    "        v_loss_2 = (clipped_values - returns ).pow(2)\n",
    "        \n",
    "        self._value_loss = 0.5 * (torch.max(v_loss_1,v_loss_2)).mean()\n",
    "        return self._value_loss\n",
    "\n",
    "    def loss(self, trajectory):\n",
    "        act = self.policy.act(trajectory[\"observations\"], training=True)\n",
    "        policy_loss = self.policy_loss(trajectory, act)\n",
    "        value_loss = self.value_loss(trajectory, act)\n",
    "\n",
    "        return policy_loss + self.value_loss_coef * value_loss\n",
    "\n",
    "    def step(self, trajectory):\n",
    "        \"\"\" Computes the loss function and performs a single gradient step. \"\"\"\n",
    "        self.optimizer.zero_grad()\n",
    "        loss = self.loss(trajectory)\n",
    "\n",
    "        loss.backward()\n",
    "\n",
    "        grad_norm = nn.utils.clip_grad_norm_(self.policy.model.parameters(), self.max_grad_norm)\n",
    "\n",
    "        self.optimizer.step()"
   ]
  },
  {
   "cell_type": "markdown",
   "metadata": {
    "id": "AVNS0IFhNCWB"
   },
   "source": [
    "Now everything is ready to do training. In one million of interactions it should be possible to \n",
    "achieve the total raw reward of about 1500. You should plot this quantity with respect to \n",
    "`runner.step_var` &mdash; the number of interactions with the environment. It is highly \n",
    "encouraged to also provide plots of the following quantities (these are useful for debugging as well):\n",
    "\n",
    "* [Coefficient of Determination](https://en.wikipedia.org/wiki/Coefficient_of_determination) between \n",
    "value targets and value predictions\n",
    "* Entropy of the policy $\\pi$\n",
    "* Value loss\n",
    "* Policy loss\n",
    "* Value targets\n",
    "* Value predictions\n",
    "* Gradient norm\n",
    "* Advantages\n",
    "\n",
    "For optimization it is suggested to use Adam optimizer with linearly annealing learning rate \n",
    "from 3e-4 to 0 and epsilon 1e-5."
   ]
  },
  {
   "cell_type": "code",
   "execution_count": 18,
   "metadata": {
    "id": "WmroaOHX33nZ"
   },
   "outputs": [],
   "source": [
    "model = PolicyModel()\n",
    "#model = model.cuda()\n",
    "\n",
    "policy = Policy(model)\n",
    "\n",
    "runner = make_ppo_runner(env, policy)"
   ]
  },
  {
   "cell_type": "code",
   "execution_count": 19,
   "metadata": {
    "id": "Psvv8oru3POG"
   },
   "outputs": [],
   "source": [
    "from IPython.display import clear_output\n",
    "from matplotlib import pyplot as plt"
   ]
  },
  {
   "cell_type": "code",
   "execution_count": 20,
   "metadata": {
    "colab": {
     "base_uri": "https://localhost:8080/",
     "height": 312
    },
    "id": "2W5StJsb1mz2",
    "outputId": "7a902763-0cc7-4dfe-9746-3511fbe555f5"
   },
   "outputs": [
    {
     "data": {
      "image/png": "[encoded data removed]",
      "text/plain": [
       "<Figure size 432x288 with 1 Axes>"
      ]
     },
     "metadata": {
      "needs_background": "light"
     },
     "output_type": "display_data"
    },
    {
     "name": "stderr",
     "output_type": "stream",
     "text": [
      "100%|██████████| 100000/100000 [17:04<00:00, 97.59it/s]\n"
     ]
    }
   ],
   "source": [
    "optimizer = torch.optim.Adam(policy.model.parameters(), lr = 3e-4, eps=1e-5)\n",
    "epochs = 100000\n",
    "\n",
    "lr_mult = lambda epoch: (1 - (epoch/epochs))\n",
    "sched = torch.optim.lr_scheduler.LambdaLR(optimizer, lr_mult)\n",
    "\n",
    "ppo = PPO(policy, optimizer)\n",
    "\n",
    "for epoch in tqdm(range(epochs)):\n",
    "    trajectory = runner.get_next()\n",
    "\n",
    "    if (epoch + 1) % 100 == 0:\n",
    "        clear_output(True)\n",
    "        rewards = np.array(env.env.episode_rewards)\n",
    "\n",
    "        if rewards.size > 0:\n",
    "            plt.plot(rewards[:, 0], rewards[:, 1], label = \"episode rewards\")\n",
    "            plt.title(\"Reward\")\n",
    "            plt.xlabel(\"Total steps\")\n",
    "            plt.ylabel(\"Reward\")\n",
    "            plt.grid()\n",
    "            plt.show()\n",
    "\n",
    "    ppo.step(trajectory)\n",
    "    sched.step()"
   ]
  },
  {
   "cell_type": "code",
   "execution_count": 21,
   "metadata": {
    "colab": {
     "base_uri": "https://localhost:8080/",
     "height": 295
    },
    "id": "OxD3w7uWbsYt",
    "outputId": "551690d0-f96d-406a-efc7-73ff50508c70"
   },
   "outputs": [
    {
     "data": {
      "image/png": "[encoded data removed]",
      "text/plain": [
       "<Figure size 432x288 with 1 Axes>"
      ]
     },
     "metadata": {
      "needs_background": "light"
     },
     "output_type": "display_data"
    }
   ],
   "source": [
    "rewards = np.array(env.env.episode_rewards)\n",
    "\n",
    "if rewards.size > 0:\n",
    "    plt.plot(rewards[:, 0], rewards[:, 1], label = \"episode rewards\")\n",
    "    plt.title(\"Reward\")\n",
    "    plt.xlabel(\"Total steps\")\n",
    "    plt.ylabel(\"Reward\")\n",
    "    plt.ylim(-1000, 2500)\n",
    "    plt.grid()\n",
    "    plt.show()"
   ]
  },
  {
   "cell_type": "code",
   "execution_count": null,
   "metadata": {
    "id": "sixQI_jMASJR"
   },
   "outputs": [],
   "source": []
  }
 ],
 "metadata": {
  "accelerator": "GPU",
  "colab": {
   "collapsed_sections": [],
   "name": "Копия блокнота \"Копия блокнота \"Копия блокнота \"Копия блокнота \"ppo.ipynb\"\"\"\"",
   "provenance": [],
   "toc_visible": true
  },
  "kernelspec": {
   "display_name": "Python 3",
   "language": "python",
   "name": "python3"
  },
  "language_info": {
   "codemirror_mode": {
    "name": "ipython",
    "version": 3
   },
   "file_extension": ".py",
   "mimetype": "text/x-python",
   "name": "python",
   "nbconvert_exporter": "python",
   "pygments_lexer": "ipython3",
   "version": "3.7.3"
  }
 },
 "nbformat": 4,
 "nbformat_minor": 1
}
